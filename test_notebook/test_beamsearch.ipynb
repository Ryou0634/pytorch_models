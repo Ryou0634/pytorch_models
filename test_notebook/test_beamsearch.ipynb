{
 "cells": [
  {
   "cell_type": "code",
   "execution_count": 1,
   "metadata": {
    "collapsed": true
   },
   "outputs": [],
   "source": [
    "%load_ext autoreload\n",
    "%autoreload 2\n",
    "%matplotlib notebook"
   ]
  },
  {
   "cell_type": "code",
   "execution_count": 2,
   "metadata": {
    "collapsed": true
   },
   "outputs": [],
   "source": [
    "from my_utils import Dictionary\n",
    "\n",
    "n_unique = 10\n",
    "\n",
    "src_dict = Dictionary(['<EOS>'])\n",
    "tgt_dict = Dictionary(['<BOS>', '<EOS>'])\n",
    "for n in range(n_unique):\n",
    "    src_dict.add_word(str(n))\n",
    "    tgt_dict.add_word(str(n))"
   ]
  },
  {
   "cell_type": "code",
   "execution_count": 3,
   "metadata": {
    "collapsed": true
   },
   "outputs": [],
   "source": [
    "from my_utils.toy_data import invert_seq\n",
    "train = invert_seq(5000, n_unique=n_unique)\n",
    "test = invert_seq(100, n_unique=n_unique)"
   ]
  },
  {
   "cell_type": "code",
   "execution_count": 4,
   "metadata": {
    "collapsed": true
   },
   "outputs": [],
   "source": [
    "import torch\n",
    "from my_utils import DataLoader\n",
    "from torch_models.utils import seq2seq\n",
    "\n",
    "def numericalize(dataset, src_dict, tgt_dict):\n",
    "    numericalized = [([src_dict(s) for s in src], [tgt_dict(t) for t in tgt]) for src, tgt in dataset]\n",
    "    return numericalized\n",
    "\n",
    "# device = 'cuda:0'\n",
    "device = torch.device('cpu')\n",
    "trans_func = seq2seq(device)\n",
    "\n",
    "train_loader = DataLoader(numericalize(train, src_dict, tgt_dict), batch_size=50, trans_func=trans_func)\n",
    "test_loader = DataLoader(numericalize(test, src_dict, tgt_dict), batch_size=50, trans_func=trans_func)"
   ]
  },
  {
   "cell_type": "code",
   "execution_count": 5,
   "metadata": {
    "scrolled": true
   },
   "outputs": [
    {
     "name": "stdout",
     "output_type": "stream",
     "text": [
      "AttnSeq2Seq(\n",
      "  (encoder): RNNEncoder(\n",
      "    (embedding): Embedding(12, 64, padding_idx=11)\n",
      "    (rnn): LSTM(64, 64, num_layers=2)\n",
      "  )\n",
      "  (decoder): RNNEncoder(\n",
      "    (embedding): Embedding(13, 64, padding_idx=12)\n",
      "    (rnn): LSTM(64, 64, num_layers=2)\n",
      "  )\n",
      "  (generator): MLP(\n",
      "    (fc_out): Linear(in_features=64, out_features=12, bias=True)\n",
      "    (dropout): Dropout(p=0)\n",
      "    (criterion): CrossEntropyLoss()\n",
      "    (activation): Tanh()\n",
      "  )\n",
      "  (attn_hidden): Linear(in_features=128, out_features=64, bias=True)\n",
      "  (attention): DotAttn()\n",
      ")\n"
     ]
    }
   ],
   "source": [
    "from torch_models import AttnSeq2Seq\n",
    "\n",
    "embed_size=64\n",
    "dropout = 0\n",
    "model = AttnSeq2Seq(embed_size=embed_size, hidden_size=embed_size, src_vocab_size=len(src_dict), tgt_vocab_size=len(tgt_dict),\n",
    "                    src_EOS=src_dict('<EOS>'), tgt_BOS=tgt_dict('<BOS>'), tgt_EOS=tgt_dict('<EOS>'),\n",
    "                    num_layers=2, bidirectional=False, dropout=dropout, rnn='LSTM')\n",
    "print(model)"
   ]
  },
  {
   "cell_type": "code",
   "execution_count": 7,
   "metadata": {
    "scrolled": true
   },
   "outputs": [
    {
     "name": "stderr",
     "output_type": "stream",
     "text": [
      "[2018-10-15 15:05:57,519 INFO] epoch [1/1]\tloss: 1.0744878113269807\t\n",
      "[2018-10-15 15:05:57,591 INFO] Evaluator BLEU: 0.4189585698166111\t\n"
     ]
    },
    {
     "name": "stdout",
     "output_type": "stream",
     "text": [
      "CPU times: user 9.49 s, sys: 154 ms, total: 9.64 s\n",
      "Wall time: 3.64 s\n"
     ]
    }
   ],
   "source": [
    "%%time\n",
    "from my_utils import Trainer, EvaluatorSeq, EvaluatorLoss\n",
    "from torch.optim import Adam, SGD\n",
    "\n",
    "optimizer = Adam(model.parameters())\n",
    "evaluator = EvaluatorSeq(model, test_loader, measure='BLEU')\n",
    "# evaluator = EvaluatorLoss(model, test_loader)\n",
    "\n",
    "trainer = Trainer(model, train_loader)\n",
    "trainer.train_epoch(optimizer, max_epoch=1,\n",
    "              evaluator=evaluator, score_monitor=None)"
   ]
  },
  {
   "cell_type": "code",
   "execution_count": 19,
   "metadata": {},
   "outputs": [
    {
     "name": "stdout",
     "output_type": "stream",
     "text": [
      "======= input ======\n",
      "['1', '5', '5', '6', '6']\n",
      "['3', '3', '2', '9']\n",
      "['5', '2', '8', '0']\n",
      "['7', '6', '0']\n",
      "['2', '8', '9']\n",
      "['2', '7', '0', '2', '8']\n",
      "['2', '9', '3', '1']\n",
      "['9', '4', '9']\n",
      "['8', '0', '8', '1']\n",
      "['1', '1', '1', '8', '5']\n",
      "======= output ======\n",
      "['6', '5', '5', '1']\n",
      "['9', '2', '3', '3']\n",
      "['0', '8', '2', '5']\n",
      "['0', '6', '0']\n",
      "['9', '8', '2']\n",
      "['2', '2', '2', '2']\n",
      "['1', '3', '9', '2']\n",
      "['9', '4', '9']\n",
      "['1', '8', '8']\n",
      "['5', '1', '1', '1']\n"
     ]
    }
   ],
   "source": [
    "iter(train_loader)\n",
    "l = 10\n",
    "inputs, targets = next(train_loader)\n",
    "inputs = inputs[:l]\n",
    "targets = targets[:l]\n",
    "generated = model.predict(inputs)\n",
    "print('======= input ======')\n",
    "for seq in inputs:\n",
    "    print([src_dict[s.item()] for s in seq])\n",
    "print('======= output ======')\n",
    "for seq in generated[:l]:\n",
    "    print([tgt_dict[s] for s in seq])"
   ]
  }
 ],
 "metadata": {
  "kernelspec": {
   "display_name": "Python [conda env:anaconda]",
   "language": "python",
   "name": "conda-env-anaconda-py"
  },
  "language_info": {
   "codemirror_mode": {
    "name": "ipython",
    "version": 3
   },
   "file_extension": ".py",
   "mimetype": "text/x-python",
   "name": "python",
   "nbconvert_exporter": "python",
   "pygments_lexer": "ipython3",
   "version": "3.5.3"
  }
 },
 "nbformat": 4,
 "nbformat_minor": 2
}
