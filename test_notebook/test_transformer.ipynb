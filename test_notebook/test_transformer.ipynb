{
 "cells": [
  {
   "cell_type": "code",
   "execution_count": 1,
   "metadata": {
    "collapsed": true
   },
   "outputs": [],
   "source": [
    "import numpy as np\n",
    "import torch\n",
    "import torch.nn as nn\n",
    "import torch.nn.functional as F\n",
    "import math, copy, time\n",
    "from torch.autograd import Variable\n",
    "import matplotlib.pyplot as plt"
   ]
  },
  {
   "cell_type": "code",
   "execution_count": 2,
   "metadata": {
    "collapsed": true
   },
   "outputs": [],
   "source": [
    "%load_ext autoreload\n",
    "%autoreload 2\n",
    "%matplotlib notebook"
   ]
  },
  {
   "cell_type": "code",
   "execution_count": 3,
   "metadata": {
    "collapsed": true
   },
   "outputs": [],
   "source": [
    "from my_utils import Dictionary\n",
    "\n",
    "n_unique = 10\n",
    "\n",
    "src_dict = Dictionary(['<EOS>'])\n",
    "tgt_dict = Dictionary(['<BOS>', '<EOS>'])\n",
    "for n in range(n_unique):\n",
    "    src_dict.add_word(str(n))\n",
    "    tgt_dict.add_word(str(n))"
   ]
  },
  {
   "cell_type": "code",
   "execution_count": 4,
   "metadata": {
    "collapsed": true
   },
   "outputs": [],
   "source": [
    "from my_utils.toy_data import invert_seq\n",
    "train = invert_seq(5000, n_unique=n_unique)\n",
    "test = invert_seq(100, n_unique=n_unique)"
   ]
  },
  {
   "cell_type": "code",
   "execution_count": 5,
   "metadata": {
    "collapsed": true
   },
   "outputs": [],
   "source": [
    "import torch\n",
    "from my_utils import DataLoader\n",
    "from torch_models.utils import seq2seq\n",
    "\n",
    "def numericalize(dataset, src_dict, tgt_dict):\n",
    "    numericalized = [([src_dict(s) for s in src], [tgt_dict(t) for t in tgt]) for src, tgt in dataset]\n",
    "    return numericalized\n",
    "\n",
    "# device = 'cuda:0'\n",
    "device = torch.device('cpu')\n",
    "trans_func = seq2seq(device)\n",
    "\n",
    "train_loader = DataLoader(numericalize(train, src_dict, tgt_dict), batch_size=64, trans_func=trans_func)\n",
    "test_loader = DataLoader(numericalize(test, src_dict, tgt_dict), batch_size=10, trans_func=trans_func)"
   ]
  },
  {
   "cell_type": "code",
   "execution_count": 12,
   "metadata": {
    "scrolled": true
   },
   "outputs": [
    {
     "name": "stdout",
     "output_type": "stream",
     "text": [
      "Transformer(\n",
      "  (encoder): TransformerEncoder(\n",
      "    (embedding): TransformerEmbedding(\n",
      "      (embedding): Embedding(12, 24, padding_idx=11)\n",
      "    )\n",
      "    (pe): PositionalEncoding(\n",
      "      (dropout): Dropout(p=0)\n",
      "    )\n",
      "    (layers): ModuleList(\n",
      "      (0): EncoderLayer(\n",
      "        (attention): MultiHeadedAttention(\n",
      "          (Q_linear): Linear(in_features=24, out_features=24, bias=True)\n",
      "          (K_linear): Linear(in_features=24, out_features=24, bias=True)\n",
      "          (V_linear): Linear(in_features=24, out_features=24, bias=True)\n",
      "          (out_linear): Linear(in_features=24, out_features=24, bias=True)\n",
      "          (attention): DotAttn()\n",
      "          (dropout): Dropout(p=0)\n",
      "        )\n",
      "        (fc): PositionwiseFeedForward(\n",
      "          (w_1): Linear(in_features=24, out_features=96, bias=True)\n",
      "          (w_2): Linear(in_features=96, out_features=24, bias=True)\n",
      "          (dropout): Dropout(p=0)\n",
      "        )\n",
      "        (layer_norms): ModuleList(\n",
      "          (0): LayerNorm(torch.Size([24]), eps=1e-05, elementwise_affine=True)\n",
      "          (1): LayerNorm(torch.Size([24]), eps=1e-05, elementwise_affine=True)\n",
      "        )\n",
      "      )\n",
      "    )\n",
      "  )\n",
      "  (decoder): TransformerDecoder(\n",
      "    (embedding): TransformerEmbedding(\n",
      "      (embedding): Embedding(13, 24, padding_idx=12)\n",
      "    )\n",
      "    (pe): PositionalEncoding(\n",
      "      (dropout): Dropout(p=0)\n",
      "    )\n",
      "    (layers): ModuleList(\n",
      "      (0): DecoderLayer(\n",
      "        (self_attention): MultiHeadedAttention(\n",
      "          (Q_linear): Linear(in_features=24, out_features=24, bias=True)\n",
      "          (K_linear): Linear(in_features=24, out_features=24, bias=True)\n",
      "          (V_linear): Linear(in_features=24, out_features=24, bias=True)\n",
      "          (out_linear): Linear(in_features=24, out_features=24, bias=True)\n",
      "          (attention): DotAttn()\n",
      "          (dropout): Dropout(p=0)\n",
      "        )\n",
      "        (src_tgt_attention): MultiHeadedAttention(\n",
      "          (Q_linear): Linear(in_features=24, out_features=24, bias=True)\n",
      "          (K_linear): Linear(in_features=24, out_features=24, bias=True)\n",
      "          (V_linear): Linear(in_features=24, out_features=24, bias=True)\n",
      "          (out_linear): Linear(in_features=24, out_features=24, bias=True)\n",
      "          (attention): DotAttn()\n",
      "          (dropout): Dropout(p=0)\n",
      "        )\n",
      "        (fc): PositionwiseFeedForward(\n",
      "          (w_1): Linear(in_features=24, out_features=96, bias=True)\n",
      "          (w_2): Linear(in_features=96, out_features=24, bias=True)\n",
      "          (dropout): Dropout(p=0)\n",
      "        )\n",
      "        (layer_norms): ModuleList(\n",
      "          (0): LayerNorm(torch.Size([24]), eps=1e-05, elementwise_affine=True)\n",
      "          (1): LayerNorm(torch.Size([24]), eps=1e-05, elementwise_affine=True)\n",
      "          (2): LayerNorm(torch.Size([24]), eps=1e-05, elementwise_affine=True)\n",
      "        )\n",
      "      )\n",
      "    )\n",
      "  )\n",
      "  (generator): MLP(\n",
      "    (fc_out): Linear(in_features=24, out_features=12, bias=True)\n",
      "    (dropout): Dropout(p=0)\n",
      "    (criterion): CrossEntropyLoss()\n",
      "    (activation): Tanh()\n",
      "  )\n",
      ")\n"
     ]
    }
   ],
   "source": [
    "from torch_models.models.transformer import *\n",
    "embed_size = 24\n",
    "n_head = 4\n",
    "\n",
    "model = Transformer(size=embed_size, n_head=n_head, src_vocab_size=len(src_dict), tgt_vocab_size=len(tgt_dict),\n",
    "                    src_EOS=src_dict('<EOS>'), tgt_BOS=tgt_dict('<BOS>'), tgt_EOS=tgt_dict('<EOS>'),\n",
    "                    dropout=0, n_layers=1)\n",
    "print(model)"
   ]
  },
  {
   "cell_type": "code",
   "execution_count": 13,
   "metadata": {
    "scrolled": true
   },
   "outputs": [
    {
     "name": "stderr",
     "output_type": "stream",
     "text": [
      "[2018-10-23 20:07:29,595 INFO] steps [79/79]\tloss: 1.9125529240958299\t\n",
      "[2018-10-23 20:07:31,300 INFO] Evaluator BLEU: 0.05755732699811228\t\n",
      "[2018-10-23 20:07:34,409 INFO] steps [79/79]\tloss: 0.9117087238951574\t\n",
      "[2018-10-23 20:07:35,465 INFO] Evaluator BLEU: 0.38140748694503707\t\n",
      "[2018-10-23 20:07:38,649 INFO] steps [79/79]\tloss: 0.30393108197405366\t\n",
      "[2018-10-23 20:07:39,448 INFO] Evaluator BLEU: 0.829904231922623\t\n"
     ]
    },
    {
     "name": "stdout",
     "output_type": "stream",
     "text": [
      "CPU times: user 32.2 s, sys: 327 ms, total: 32.6 s\n",
      "Wall time: 12.9 s\n"
     ]
    }
   ],
   "source": [
    "%%time\n",
    "from my_utils.misc.logging import init_logger\n",
    "init_logger()\n",
    "from my_utils import Trainer, EvaluatorSeq\n",
    "from torch.optim import Adam, SGD\n",
    "\n",
    "optimizer = Adam(model.parameters())\n",
    "evaluator = EvaluatorSeq(model, test_loader, measure='BLEU')\n",
    "\n",
    "trainer = Trainer(model, train_loader)\n",
    "trainer.train_epoch(optimizer, max_epoch=3,\n",
    "              evaluator=evaluator, score_monitor=None)"
   ]
  },
  {
   "cell_type": "code",
   "execution_count": 1,
   "metadata": {},
   "outputs": [
    {
     "ename": "NameError",
     "evalue": "name 'evaluator' is not defined",
     "output_type": "error",
     "traceback": [
      "\u001b[0;31m---------------------------------------------------------\u001b[0m",
      "\u001b[0;31mNameError\u001b[0m               Traceback (most recent call last)",
      "\u001b[0;32m<ipython-input-1-d80f9752f24d>\u001b[0m in \u001b[0;36m<module>\u001b[0;34m()\u001b[0m\n\u001b[0;32m----> 1\u001b[0;31m \u001b[0;32massert\u001b[0m \u001b[0;36m0.9\u001b[0m \u001b[0;34m<\u001b[0m \u001b[0mevaluator\u001b[0m\u001b[0;34m.\u001b[0m\u001b[0mevaluate\u001b[0m\u001b[0;34m(\u001b[0m\u001b[0;34m)\u001b[0m\u001b[0;34m\u001b[0m\u001b[0m\n\u001b[0m",
      "\u001b[0;31mNameError\u001b[0m: name 'evaluator' is not defined"
     ]
    }
   ],
   "source": [
    "assert 0.9 < evaluator.evaluate()"
   ]
  },
  {
   "cell_type": "code",
   "execution_count": 21,
   "metadata": {},
   "outputs": [
    {
     "name": "stdout",
     "output_type": "stream",
     "text": [
      "======= input ======\n",
      "['6', '9', '6', '6']\n",
      "['6', '6', '4', '4']\n",
      "['4', '4', '8']\n",
      "['5', '1', '9', '8', '6']\n",
      "['0', '6', '1', '3']\n",
      "['5', '3', '1', '6']\n",
      "['0', '7', '0', '8', '9']\n",
      "['5', '9', '6', '3', '0']\n",
      "['9', '4', '2']\n",
      "['7', '2', '2']\n",
      "======= output ======\n",
      "['6', '6', '9', '6']\n",
      "['4', '4', '6', '6']\n",
      "['8', '4', '8']\n",
      "['6', '8', '9', '1', '5']\n",
      "['3', '1', '6', '0']\n",
      "['6', '1', '3', '5']\n",
      "['9', '8', '0', '7', '0']\n",
      "['0', '3', '6', '9', '5']\n",
      "['2', '4', '9']\n",
      "['2', '2', '7']\n"
     ]
    }
   ],
   "source": [
    "iter(train_loader)\n",
    "l = 10\n",
    "inputs, targets = next(train_loader)\n",
    "inputs = inputs[:l]\n",
    "targets = targets[:l]\n",
    "generated = model.predict(inputs)\n",
    "print('======= input ======')\n",
    "for seq in inputs:\n",
    "    print([src_dict[s.item()] for s in seq])\n",
    "print('======= output ======')\n",
    "for seq in generated[:l]:\n",
    "    print([tgt_dict[s] for s in seq])"
   ]
  },
  {
   "cell_type": "code",
   "execution_count": 9,
   "metadata": {},
   "outputs": [
    {
     "data": {
      "text/plain": [
       "False"
      ]
     },
     "execution_count": 9,
     "metadata": {},
     "output_type": "execute_result"
    }
   ],
   "source": [
    "import numpy as np\n",
    "(np.array([3, 2, 1]) == np.array([1, 2, 3])).all()"
   ]
  },
  {
   "cell_type": "code",
   "execution_count": null,
   "metadata": {
    "collapsed": true
   },
   "outputs": [],
   "source": []
  }
 ],
 "metadata": {
  "kernelspec": {
   "display_name": "Python [conda env:anaconda]",
   "language": "python",
   "name": "conda-env-anaconda-py"
  },
  "language_info": {
   "codemirror_mode": {
    "name": "ipython",
    "version": 3
   },
   "file_extension": ".py",
   "mimetype": "text/x-python",
   "name": "python",
   "nbconvert_exporter": "python",
   "pygments_lexer": "ipython3",
   "version": "3.5.3"
  }
 },
 "nbformat": 4,
 "nbformat_minor": 2
}
