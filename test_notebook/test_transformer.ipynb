{
 "cells": [
  {
   "cell_type": "code",
   "execution_count": 1,
   "metadata": {
    "collapsed": true
   },
   "outputs": [],
   "source": [
    "import numpy as np\n",
    "import torch\n",
    "import torch.nn as nn\n",
    "import torch.nn.functional as F\n",
    "import math, copy, time\n",
    "from torch.autograd import Variable\n",
    "import matplotlib.pyplot as plt\n",
    "import seaborn\n",
    "seaborn.set_context(context=\"talk\")\n",
    "%matplotlib inline"
   ]
  },
  {
   "cell_type": "code",
   "execution_count": 2,
   "metadata": {
    "collapsed": true
   },
   "outputs": [],
   "source": [
    "%load_ext autoreload\n",
    "%autoreload 2\n",
    "%matplotlib notebook"
   ]
  },
  {
   "cell_type": "code",
   "execution_count": 3,
   "metadata": {
    "collapsed": true
   },
   "outputs": [],
   "source": [
    "from my_utils import Dictionary\n",
    "\n",
    "n_unique = 10\n",
    "\n",
    "src_dict = Dictionary(['<EOS>'])\n",
    "tgt_dict = Dictionary(['<BOS>', '<EOS>'])\n",
    "for n in range(n_unique):\n",
    "    src_dict.add_word(str(n))\n",
    "    tgt_dict.add_word(str(n))"
   ]
  },
  {
   "cell_type": "code",
   "execution_count": 11,
   "metadata": {
    "collapsed": true
   },
   "outputs": [],
   "source": [
    "from my_utils.toy_data import invert_seq\n",
    "train = invert_seq(1000, n_unique=n_unique)\n",
    "test = invert_seq(100, n_unique=n_unique)"
   ]
  },
  {
   "cell_type": "code",
   "execution_count": 12,
   "metadata": {
    "collapsed": true
   },
   "outputs": [],
   "source": [
    "import torch\n",
    "from my_utils import DataLoader\n",
    "from torch_models.utils import seq2seq\n",
    "\n",
    "def numericalize(dataset, src_dict, tgt_dict):\n",
    "    numericalized = [([src_dict(s) for s in src], [tgt_dict(t) for t in tgt]) for src, tgt in dataset]\n",
    "    return numericalized\n",
    "\n",
    "# device = 'cuda:0'\n",
    "device = torch.device('cpu')\n",
    "trans_func = seq2seq(device)\n",
    "\n",
    "train_loader = DataLoader(numericalize(train, src_dict, tgt_dict), batch_size=64, trans_func=trans_func)\n",
    "test_loader = DataLoader(numericalize(test, src_dict, tgt_dict), batch_size=50, trans_func=trans_func)"
   ]
  },
  {
   "cell_type": "code",
   "execution_count": 13,
   "metadata": {
    "scrolled": true
   },
   "outputs": [
    {
     "name": "stdout",
     "output_type": "stream",
     "text": [
      "Transformer(\n",
      "  (encoder): TransformerEncoder(\n",
      "    (embedding): TransformerEmbedding(\n",
      "      (embedding): Embedding(12, 24, padding_idx=11)\n",
      "    )\n",
      "    (pe): PositionalEncoding(\n",
      "      (dropout): Dropout(p=0)\n",
      "    )\n",
      "    (layers): ModuleList(\n",
      "      (0): EncoderLayer(\n",
      "        (attention): MultiHeadedAttention(\n",
      "          (Q_linear): Linear(in_features=24, out_features=24, bias=True)\n",
      "          (K_linear): Linear(in_features=24, out_features=24, bias=True)\n",
      "          (V_linear): Linear(in_features=24, out_features=24, bias=True)\n",
      "          (out_linear): Linear(in_features=24, out_features=24, bias=True)\n",
      "          (attention): DotAttn()\n",
      "          (dropout): Dropout(p=0)\n",
      "        )\n",
      "        (fc): PositionwiseFeedForward(\n",
      "          (w_1): Linear(in_features=24, out_features=96, bias=True)\n",
      "          (w_2): Linear(in_features=96, out_features=24, bias=True)\n",
      "          (dropout): Dropout(p=0)\n",
      "        )\n",
      "        (layer_norms): ModuleList(\n",
      "          (0): LayerNorm(torch.Size([24]), eps=1e-05, elementwise_affine=True)\n",
      "          (1): LayerNorm(torch.Size([24]), eps=1e-05, elementwise_affine=True)\n",
      "        )\n",
      "      )\n",
      "      (1): EncoderLayer(\n",
      "        (attention): MultiHeadedAttention(\n",
      "          (Q_linear): Linear(in_features=24, out_features=24, bias=True)\n",
      "          (K_linear): Linear(in_features=24, out_features=24, bias=True)\n",
      "          (V_linear): Linear(in_features=24, out_features=24, bias=True)\n",
      "          (out_linear): Linear(in_features=24, out_features=24, bias=True)\n",
      "          (attention): DotAttn()\n",
      "          (dropout): Dropout(p=0)\n",
      "        )\n",
      "        (fc): PositionwiseFeedForward(\n",
      "          (w_1): Linear(in_features=24, out_features=96, bias=True)\n",
      "          (w_2): Linear(in_features=96, out_features=24, bias=True)\n",
      "          (dropout): Dropout(p=0)\n",
      "        )\n",
      "        (layer_norms): ModuleList(\n",
      "          (0): LayerNorm(torch.Size([24]), eps=1e-05, elementwise_affine=True)\n",
      "          (1): LayerNorm(torch.Size([24]), eps=1e-05, elementwise_affine=True)\n",
      "        )\n",
      "      )\n",
      "    )\n",
      "  )\n",
      "  (decoder): TransformerDecoder(\n",
      "    (embedding): TransformerEmbedding(\n",
      "      (embedding): Embedding(13, 24, padding_idx=12)\n",
      "    )\n",
      "    (pe): PositionalEncoding(\n",
      "      (dropout): Dropout(p=0)\n",
      "    )\n",
      "    (layers): ModuleList(\n",
      "      (0): DecoderLayer(\n",
      "        (self_attention): MultiHeadedAttention(\n",
      "          (Q_linear): Linear(in_features=24, out_features=24, bias=True)\n",
      "          (K_linear): Linear(in_features=24, out_features=24, bias=True)\n",
      "          (V_linear): Linear(in_features=24, out_features=24, bias=True)\n",
      "          (out_linear): Linear(in_features=24, out_features=24, bias=True)\n",
      "          (attention): DotAttn()\n",
      "          (dropout): Dropout(p=0)\n",
      "        )\n",
      "        (src_tgt_attention): MultiHeadedAttention(\n",
      "          (Q_linear): Linear(in_features=24, out_features=24, bias=True)\n",
      "          (K_linear): Linear(in_features=24, out_features=24, bias=True)\n",
      "          (V_linear): Linear(in_features=24, out_features=24, bias=True)\n",
      "          (out_linear): Linear(in_features=24, out_features=24, bias=True)\n",
      "          (attention): DotAttn()\n",
      "          (dropout): Dropout(p=0)\n",
      "        )\n",
      "        (fc): PositionwiseFeedForward(\n",
      "          (w_1): Linear(in_features=24, out_features=96, bias=True)\n",
      "          (w_2): Linear(in_features=96, out_features=24, bias=True)\n",
      "          (dropout): Dropout(p=0)\n",
      "        )\n",
      "        (layer_norms): ModuleList(\n",
      "          (0): LayerNorm(torch.Size([24]), eps=1e-05, elementwise_affine=True)\n",
      "          (1): LayerNorm(torch.Size([24]), eps=1e-05, elementwise_affine=True)\n",
      "          (2): LayerNorm(torch.Size([24]), eps=1e-05, elementwise_affine=True)\n",
      "        )\n",
      "      )\n",
      "      (1): DecoderLayer(\n",
      "        (self_attention): MultiHeadedAttention(\n",
      "          (Q_linear): Linear(in_features=24, out_features=24, bias=True)\n",
      "          (K_linear): Linear(in_features=24, out_features=24, bias=True)\n",
      "          (V_linear): Linear(in_features=24, out_features=24, bias=True)\n",
      "          (out_linear): Linear(in_features=24, out_features=24, bias=True)\n",
      "          (attention): DotAttn()\n",
      "          (dropout): Dropout(p=0)\n",
      "        )\n",
      "        (src_tgt_attention): MultiHeadedAttention(\n",
      "          (Q_linear): Linear(in_features=24, out_features=24, bias=True)\n",
      "          (K_linear): Linear(in_features=24, out_features=24, bias=True)\n",
      "          (V_linear): Linear(in_features=24, out_features=24, bias=True)\n",
      "          (out_linear): Linear(in_features=24, out_features=24, bias=True)\n",
      "          (attention): DotAttn()\n",
      "          (dropout): Dropout(p=0)\n",
      "        )\n",
      "        (fc): PositionwiseFeedForward(\n",
      "          (w_1): Linear(in_features=24, out_features=96, bias=True)\n",
      "          (w_2): Linear(in_features=96, out_features=24, bias=True)\n",
      "          (dropout): Dropout(p=0)\n",
      "        )\n",
      "        (layer_norms): ModuleList(\n",
      "          (0): LayerNorm(torch.Size([24]), eps=1e-05, elementwise_affine=True)\n",
      "          (1): LayerNorm(torch.Size([24]), eps=1e-05, elementwise_affine=True)\n",
      "          (2): LayerNorm(torch.Size([24]), eps=1e-05, elementwise_affine=True)\n",
      "        )\n",
      "      )\n",
      "    )\n",
      "  )\n",
      "  (generator): MLP(\n",
      "    (fc_out): Linear(in_features=24, out_features=12, bias=True)\n",
      "    (dropout): Dropout(p=0)\n",
      "    (criterion): CrossEntropyLoss()\n",
      "    (activation): Tanh()\n",
      "  )\n",
      ")\n"
     ]
    }
   ],
   "source": [
    "from torch_models.models.transformer import *\n",
    "embed_size = 24\n",
    "n_head = 4\n",
    "\n",
    "model = Transformer(size=embed_size, n_head=n_head, src_vocab_size=len(src_dict), tgt_vocab_size=len(tgt_dict),\n",
    "                    src_EOS=src_dict('<EOS>'), tgt_BOS=tgt_dict('<BOS>'), tgt_EOS=tgt_dict('<EOS>'),\n",
    "                    dropout=0, n_layers=2)\n",
    "print(model)"
   ]
  },
  {
   "cell_type": "code",
   "execution_count": 14,
   "metadata": {
    "scrolled": true
   },
   "outputs": [
    {
     "name": "stderr",
     "output_type": "stream",
     "text": [
      "/Users/linghan/anaconda/lib/python3.5/site-packages/nltk/translate/bleu_score.py:490: UserWarning: \n",
      "Corpus/Sentence contains 0 counts of 3-gram overlaps.\n",
      "BLEU scores might be undesirable; use SmoothingFunction().\n",
      "  warnings.warn(_msg)\n"
     ]
    },
    {
     "name": "stdout",
     "output_type": "stream",
     "text": [
      "epoch 0  \tloss: 2.449956715106964\tBLEU: 0.26368937080638133\t\n"
     ]
    },
    {
     "name": "stderr",
     "output_type": "stream",
     "text": [
      "/Users/linghan/anaconda/lib/python3.5/site-packages/nltk/translate/bleu_score.py:490: UserWarning: \n",
      "Corpus/Sentence contains 0 counts of 4-gram overlaps.\n",
      "BLEU scores might be undesirable; use SmoothingFunction().\n",
      "  warnings.warn(_msg)\n"
     ]
    },
    {
     "name": "stdout",
     "output_type": "stream",
     "text": [
      "epoch 1  \tloss: 2.007535107433796\tBLEU: 0.15414364092029126\t\n",
      "epoch 2  \tloss: 1.6938202679157257\tBLEU: 0.2814006513563015\t\n",
      "epoch 3  \tloss: 1.4096672162413597\tBLEU: 0.38654990661598615\t\n",
      "epoch 4  \tloss: 1.164906620979309\tBLEU: 0.13570377732484512\t\n",
      "CPU times: user 56.4 s, sys: 2.8 s, total: 59.2 s\n",
      "Wall time: 28.6 s\n"
     ]
    }
   ],
   "source": [
    "%%time\n",
    "from my_utils import Trainer, EvaluatorSeq\n",
    "from torch.optim import Adam, SGD\n",
    "\n",
    "optimizer = Adam(model.parameters())\n",
    "\n",
    "evaluator = EvaluatorSeq(model, test_loader, measure='BLEU')\n",
    "\n",
    "trainer = Trainer(model, train_loader)\n",
    "trainer.train(optimizer, max_epoch=5,\n",
    "              evaluator=evaluator, score_monitor=None, show_log=True)"
   ]
  },
  {
   "cell_type": "code",
   "execution_count": 10,
   "metadata": {},
   "outputs": [
    {
     "name": "stdout",
     "output_type": "stream",
     "text": [
      "======= input ======\n",
      "['7', '2', '6', '1', '6']\n",
      "['2', '3', '5', '9']\n",
      "['9', '9', '0', '9', '3']\n",
      "['3', '7', '2', '5', '8']\n",
      "['5', '9', '5', '7', '9']\n",
      "['9', '9', '6', '0']\n",
      "['9', '1', '2', '1', '8']\n",
      "['4', '8', '8']\n",
      "['6', '4', '9']\n",
      "['9', '7', '3', '6']\n",
      "======= output ======\n",
      "['6', '1', '6', '2', '7']\n",
      "['9', '5', '3', '2']\n",
      "['3', '9', '0', '9', '9']\n",
      "['8', '5', '2', '7', '3']\n",
      "['9', '7', '5', '9', '5']\n",
      "['0', '6', '9', '9']\n",
      "['8', '1', '2', '1', '9']\n",
      "['8', '8', '4']\n",
      "['9', '4', '6']\n",
      "['6', '3', '7', '9']\n"
     ]
    }
   ],
   "source": [
    "iter(train_loader)\n",
    "l = 10\n",
    "inputs, targets = next(train_loader)\n",
    "inputs = inputs[:l]\n",
    "targets = targets[:l]\n",
    "generated = model.predict(inputs)\n",
    "print('======= input ======')\n",
    "for seq in inputs:\n",
    "    print([src_dict[s.item()] for s in seq])\n",
    "print('======= output ======')\n",
    "for seq in generated[:l]:\n",
    "    print([tgt_dict[s] for s in seq])"
   ]
  },
  {
   "cell_type": "code",
   "execution_count": null,
   "metadata": {
    "collapsed": true
   },
   "outputs": [],
   "source": []
  }
 ],
 "metadata": {
  "kernelspec": {
   "display_name": "Python [conda env:anaconda]",
   "language": "python",
   "name": "conda-env-anaconda-py"
  },
  "language_info": {
   "codemirror_mode": {
    "name": "ipython",
    "version": 3
   },
   "file_extension": ".py",
   "mimetype": "text/x-python",
   "name": "python",
   "nbconvert_exporter": "python",
   "pygments_lexer": "ipython3",
   "version": "3.5.3"
  }
 },
 "nbformat": 4,
 "nbformat_minor": 2
}
