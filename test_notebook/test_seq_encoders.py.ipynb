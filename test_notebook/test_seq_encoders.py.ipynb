{
 "cells": [
  {
   "cell_type": "code",
   "execution_count": 1,
   "metadata": {
    "collapsed": true
   },
   "outputs": [],
   "source": [
    "%load_ext autoreload\n",
    "%autoreload 2"
   ]
  },
  {
   "cell_type": "code",
   "execution_count": 2,
   "metadata": {
    "collapsed": true
   },
   "outputs": [],
   "source": [
    "from my_utils import seq_10, DataLoader\n",
    "from torch_models.utils import seq2label\n",
    "\n",
    "device = 'cpu'\n",
    "trans_func = seq2label(device)\n",
    "train = seq_10(5000)\n",
    "test = seq_10(500)\n",
    "train_loader = DataLoader(train, batch_size=16, trans_func=trans_func)\n",
    "test_loader = DataLoader(test, batch_size=64, trans_func=trans_func)"
   ]
  },
  {
   "cell_type": "code",
   "execution_count": 18,
   "metadata": {},
   "outputs": [],
   "source": [
    "from torch_models.models import BoV, RNNLastHidden, RNNMaxPool, SingleClassifier\n",
    "from torch_models.utils import get_device\n",
    "\n",
    "encoder = RNNMaxPool(embed_size=50, vocab_size=10, bidirectional=True, num_layers=1, rnn='gru')\n",
    "model = SingleClassifier(encoder=encoder, output_size=2, hidden_size=None,\n",
    "                         activation='Tanh', dropout=0, freeze_encoder=False)"
   ]
  },
  {
   "cell_type": "code",
   "execution_count": 19,
   "metadata": {},
   "outputs": [
    {
     "name": "stdout",
     "output_type": "stream",
     "text": [
      "epoch 0  \tloss: 0.1547163894516044\taccuracy: 1.0\t\n"
     ]
    }
   ],
   "source": [
    "from my_utils import Trainer, EvaluatorC\n",
    "from torch.optim import Adam\n",
    "\n",
    "optimizer = Adam(model.parameters())\n",
    "\n",
    "evaluator = EvaluatorC(model, test_loader)\n",
    "\n",
    "trainer = Trainer(model, train_loader)\n",
    "trainer.train(optimizer, max_epoch=1,\n",
    "              evaluator=evaluator, score_monitor=None, show_log=True, hook_func=None)"
   ]
  },
  {
   "cell_type": "code",
   "execution_count": null,
   "metadata": {
    "collapsed": true
   },
   "outputs": [],
   "source": []
  },
  {
   "cell_type": "code",
   "execution_count": null,
   "metadata": {
    "collapsed": true
   },
   "outputs": [],
   "source": []
  }
 ],
 "metadata": {
  "kernelspec": {
   "display_name": "Python [default]",
   "language": "python",
   "name": "python3"
  },
  "language_info": {
   "codemirror_mode": {
    "name": "ipython",
    "version": 3
   },
   "file_extension": ".py",
   "mimetype": "text/x-python",
   "name": "python",
   "nbconvert_exporter": "python",
   "pygments_lexer": "ipython3",
   "version": "3.5.3"
  }
 },
 "nbformat": 4,
 "nbformat_minor": 2
}
