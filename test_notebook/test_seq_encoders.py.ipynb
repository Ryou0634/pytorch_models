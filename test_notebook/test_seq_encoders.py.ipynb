{
 "cells": [
  {
   "cell_type": "code",
   "execution_count": 1,
   "metadata": {
    "collapsed": true
   },
   "outputs": [],
   "source": [
    "%load_ext autoreload\n",
    "%autoreload 2"
   ]
  },
  {
   "cell_type": "code",
   "execution_count": 2,
   "metadata": {},
   "outputs": [],
   "source": [
    "from my_utils import seq_10, DataLoader\n",
    "from torch_models.utils import seq2label\n",
    "\n",
    "train = seq_10()\n",
    "test = seq_10(500)\n",
    "train_loader = DataLoader(train, batch_size=16, trans_func=seq2label, shuffle=True)\n",
    "test_loader = DataLoader(test, batch_size=64, trans_func=seq2label)"
   ]
  },
  {
   "cell_type": "code",
   "execution_count": 3,
   "metadata": {},
   "outputs": [
    {
     "name": "stdout",
     "output_type": "stream",
     "text": [
      "===== Device =====\n",
      "cpu\n"
     ]
    }
   ],
   "source": [
    "from torch_models.models import BoV, LSTMLastHidden, LSTMMaxPool, SingleClassifier\n",
    "from torch_models.utils import get_device\n",
    "\n",
    "device = get_device()\n",
    "encoder = LSTMLastHidden(embed_size=50, vocab_size=10, bidirectional=True, num_layers=1).to(device)\n",
    "model = SingleClassifier(encoder=encoder, output_size=2, hidden_size=None,\n",
    "                         activation='Tanh', dropout=0, freeze_encoder=False).to(device)"
   ]
  },
  {
   "cell_type": "code",
   "execution_count": 8,
   "metadata": {},
   "outputs": [
    {
     "name": "stdout",
     "output_type": "stream",
     "text": [
      "epoch 0  \tloss: 0.6849293788781943\taccuracy: 0.564\t\n"
     ]
    }
   ],
   "source": [
    "from my_utils import Trainer, EvaluatorC\n",
    "from torch.optim import Adam\n",
    "\n",
    "optimizer = Adam(model.parameters())\n",
    "\n",
    "evaluator = EvaluatorC(model, test_loader)\n",
    "\n",
    "trainer = Trainer(model, train_loader)\n",
    "trainer.train(optimizer, max_epoch=1,\n",
    "              evaluator=evaluator, score_monitor=None, show_log=True, hook_func=None)"
   ]
  },
  {
   "cell_type": "code",
   "execution_count": null,
   "metadata": {
    "collapsed": true
   },
   "outputs": [],
   "source": []
  }
 ],
 "metadata": {
  "kernelspec": {
   "display_name": "Python [conda root]",
   "language": "python",
   "name": "conda-root-py"
  },
  "language_info": {
   "codemirror_mode": {
    "name": "ipython",
    "version": 3
   },
   "file_extension": ".py",
   "mimetype": "text/x-python",
   "name": "python",
   "nbconvert_exporter": "python",
   "pygments_lexer": "ipython3",
   "version": "3.5.3"
  }
 },
 "nbformat": 4,
 "nbformat_minor": 2
}
