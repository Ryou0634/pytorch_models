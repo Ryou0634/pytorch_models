{
 "cells": [
  {
   "cell_type": "code",
   "execution_count": 1,
   "metadata": {
    "collapsed": true
   },
   "outputs": [],
   "source": [
    "%load_ext autoreload\n",
    "%autoreload 2"
   ]
  },
  {
   "cell_type": "code",
   "execution_count": 2,
   "metadata": {
    "collapsed": true
   },
   "outputs": [],
   "source": [
    "from my_utils import seq_10, DataLoader\n",
    "from torch_models.utils import seq2label\n",
    "\n",
    "device = 'cpu'\n",
    "trans_func = seq2label(device)\n",
    "train = seq_10(5000)\n",
    "test = seq_10(500)\n",
    "train_loader = DataLoader(train, batch_size=16, trans_func=trans_func)\n",
    "test_loader = DataLoader(test, batch_size=64, trans_func=trans_func)"
   ]
  },
  {
   "cell_type": "code",
   "execution_count": 12,
   "metadata": {},
   "outputs": [
    {
     "name": "stdout",
     "output_type": "stream",
     "text": [
      "SingleClassifier(\n",
      "  (encoder): RNNMaxPool(\n",
      "    (embedding): Embedding(11, 10, padding_idx=10)\n",
      "    (rnn): GRU(10, 15, bidirectional=True)\n",
      "  )\n",
      "  (mlp): MLP(\n",
      "    (fc_out): Linear(in_features=30, out_features=2, bias=True)\n",
      "    (dropout): Dropout(p=0)\n",
      "    (criterion): CrossEntropyLoss()\n",
      "    (activation): Tanh()\n",
      "  )\n",
      ")\n"
     ]
    }
   ],
   "source": [
    "from torch_models.models import BoV, RNNLastHidden, RNNMaxPool, SingleClassifier\n",
    "from torch_models.utils import get_device\n",
    "\n",
    "\n",
    "dropout = 0\n",
    "encoder = RNNMaxPool(embed_size=10, hidden_size=15, vocab_size=10, bidirectional='cat',\n",
    "                        num_layers=1, dropout=dropout, rnn='gru')\n",
    "model = SingleClassifier(encoder=encoder, output_size=2, hidden_size=None,\n",
    "                         activation='Tanh', dropout=dropout, freeze_encoder=False)\n",
    "print(model)"
   ]
  },
  {
   "cell_type": "code",
   "execution_count": 13,
   "metadata": {},
   "outputs": [
    {
     "name": "stderr",
     "output_type": "stream",
     "text": [
      "[2018-10-15 16:47:23,694 INFO] epoch [1/5]\tloss: 0.45638031913592414\t\n",
      "[2018-10-15 16:47:23,739 INFO] Evaluator accuracy: 0.924\t\n",
      "[2018-10-15 16:47:25,563 INFO] epoch [2/5]\tloss: 0.11841731336408148\t\n",
      "[2018-10-15 16:47:25,601 INFO] Evaluator accuracy: 0.998\t\n",
      "[2018-10-15 16:47:27,633 INFO] epoch [3/5]\tloss: 0.039588210740150474\t\n",
      "[2018-10-15 16:47:27,671 INFO] Evaluator accuracy: 1.0\t\n",
      "[2018-10-15 16:47:30,039 INFO] epoch [4/5]\tloss: 0.016530916707727095\t\n",
      "[2018-10-15 16:47:30,085 INFO] Evaluator accuracy: 1.0\t\n",
      "[2018-10-15 16:47:30,086 INFO] Dev score saturated.\n"
     ]
    }
   ],
   "source": [
    "from my_utils import Trainer, EvaluatorC, ScoreMonitor, EvaluatorLoss\n",
    "from torch.optim import Adam\n",
    "\n",
    "optimizer = Adam(model.parameters())\n",
    "\n",
    "evaluator = EvaluatorC(model, test_loader)\n",
    "score_monitor = ScoreMonitor(threshold=1, go_up=True)\n",
    "\n",
    "trainer = Trainer(model, train_loader)\n",
    "trainer.train_epoch(optimizer, max_epoch=5,\n",
    "              evaluator=evaluator, score_monitor=score_monitor)"
   ]
  },
  {
   "cell_type": "code",
   "execution_count": 6,
   "metadata": {},
   "outputs": [
    {
     "name": "stderr",
     "output_type": "stream",
     "text": [
      "[2018-10-15 11:45:32,391 INFO] Start Training\n",
      "[2018-10-15 11:45:37,379 INFO] steps [3000/5000]\tloss: 0.0008452482784960012\t\n",
      "[2018-10-15 11:45:37,410 INFO] Evaluator accuracy: 1.0\t\n",
      "[2018-10-15 11:45:37,410 INFO] Dev score saturated.\n",
      "[2018-10-15 11:45:37,412 INFO] Stop Training\n"
     ]
    }
   ],
   "source": [
    "trainer.train_step(optimizer, checkpoint_steps=1000, max_steps=5000,\n",
    "              evaluator=evaluator, score_monitor=score_monitor)"
   ]
  },
  {
   "cell_type": "code",
   "execution_count": 9,
   "metadata": {},
   "outputs": [
    {
     "name": "stderr",
     "output_type": "stream",
     "text": [
      "[2018-10-15 11:51:34,750 INFO] Start Training\n"
     ]
    },
    {
     "name": "stdout",
     "output_type": "stream",
     "text": [
      "lr: 3\n"
     ]
    },
    {
     "name": "stderr",
     "output_type": "stream",
     "text": [
      "[2018-10-15 11:51:36,421 INFO] epoch [1/5]\tloss: 0.0001610456483555468\t\n",
      "[2018-10-15 11:51:36,452 INFO] Evaluator accuracy: 1.0\t\n",
      "[2018-10-15 11:51:37,999 INFO] epoch [2/5]\tloss: 0.00012702342168756096\t\n",
      "[2018-10-15 11:51:38,029 INFO] Evaluator accuracy: 1.0\t\n",
      "[2018-10-15 11:51:38,030 INFO] Dev score saturated.\n",
      "[2018-10-15 11:51:38,031 INFO] Stop Training\n",
      "[2018-10-15 11:51:38,032 INFO] Start Training\n"
     ]
    },
    {
     "name": "stdout",
     "output_type": "stream",
     "text": [
      "lr: 1.5\n"
     ]
    },
    {
     "name": "stderr",
     "output_type": "stream",
     "text": [
      "[2018-10-15 11:51:39,596 INFO] epoch [1/5]\tloss: 0.00010839436630901449\t\n",
      "[2018-10-15 11:51:39,628 INFO] Evaluator accuracy: 1.0\t\n",
      "[2018-10-15 11:51:39,629 INFO] Dev score saturated.\n",
      "[2018-10-15 11:51:39,630 INFO] Stop Training\n",
      "[2018-10-15 11:51:39,632 INFO] Start Training\n"
     ]
    },
    {
     "name": "stdout",
     "output_type": "stream",
     "text": [
      "lr: 0.75\n"
     ]
    },
    {
     "name": "stderr",
     "output_type": "stream",
     "text": [
      "[2018-10-15 11:51:41,137 INFO] epoch [1/5]\tloss: 0.00010039014712808208\t\n",
      "[2018-10-15 11:51:41,165 INFO] Evaluator accuracy: 1.0\t\n",
      "[2018-10-15 11:51:41,166 INFO] Dev score saturated.\n",
      "[2018-10-15 11:51:41,167 INFO] Stop Training\n",
      "[2018-10-15 11:51:41,169 INFO] Start Training\n"
     ]
    },
    {
     "name": "stdout",
     "output_type": "stream",
     "text": [
      "lr: 0.375\n"
     ]
    },
    {
     "name": "stderr",
     "output_type": "stream",
     "text": [
      "[2018-10-15 11:51:42,672 INFO] epoch [1/5]\tloss: 9.713318516219624e-05\t\n",
      "[2018-10-15 11:51:42,699 INFO] Evaluator accuracy: 1.0\t\n",
      "[2018-10-15 11:51:42,700 INFO] Dev score saturated.\n",
      "[2018-10-15 11:51:42,701 INFO] Stop Training\n",
      "[2018-10-15 11:51:42,703 INFO] Start Training\n"
     ]
    },
    {
     "name": "stdout",
     "output_type": "stream",
     "text": [
      "lr: 0.1875\n"
     ]
    },
    {
     "name": "stderr",
     "output_type": "stream",
     "text": [
      "[2018-10-15 11:51:44,229 INFO] epoch [1/5]\tloss: 9.539284052390922e-05\t\n",
      "[2018-10-15 11:51:44,259 INFO] Evaluator accuracy: 1.0\t\n",
      "[2018-10-15 11:51:44,260 INFO] Dev score saturated.\n",
      "[2018-10-15 11:51:44,261 INFO] Stop Training\n"
     ]
    }
   ],
   "source": [
    "from my_utils import Trainer, EvaluatorC, ScoreMonitor\n",
    "from torch.optim import Adam, SGD\n",
    "\n",
    "lr = 3\n",
    "lr_decay = 0.5\n",
    "lr_threshold = 0.1\n",
    "optimizer = SGD(model.parameters(), lr=3)\n",
    "evaluator = EvaluatorC(model, test_loader)\n",
    "score_monitor = ScoreMonitor(threshold=1)\n",
    "trainer = Trainer(model, train_loader)\n",
    "\n",
    "\n",
    "while lr > lr_threshold:\n",
    "    print('lr: {}'.format(lr))\n",
    "    trainer.train_epoch(optimizer, max_epoch=5,\n",
    "                  evaluator=evaluator, score_monitor=score_monitor)\n",
    "    lr *= lr_decay\n",
    "    for param_group in optimizer.param_groups:\n",
    "            param_group['lr'] = lr"
   ]
  },
  {
   "cell_type": "code",
   "execution_count": null,
   "metadata": {
    "collapsed": true
   },
   "outputs": [],
   "source": []
  }
 ],
 "metadata": {
  "kernelspec": {
   "display_name": "Python [default]",
   "language": "python",
   "name": "python3"
  },
  "language_info": {
   "codemirror_mode": {
    "name": "ipython",
    "version": 3
   },
   "file_extension": ".py",
   "mimetype": "text/x-python",
   "name": "python",
   "nbconvert_exporter": "python",
   "pygments_lexer": "ipython3",
   "version": "3.5.3"
  }
 },
 "nbformat": 4,
 "nbformat_minor": 2
}
