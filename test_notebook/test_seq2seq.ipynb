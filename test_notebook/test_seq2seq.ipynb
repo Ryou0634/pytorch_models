{
 "cells": [
  {
   "cell_type": "code",
   "execution_count": 1,
   "metadata": {},
   "outputs": [],
   "source": [
    "%load_ext autoreload\n",
    "%autoreload 2\n",
    "%matplotlib notebook"
   ]
  },
  {
   "cell_type": "code",
   "execution_count": 2,
   "metadata": {
    "collapsed": true
   },
   "outputs": [],
   "source": [
    "from my_utils import Dictionary\n",
    "\n",
    "n_unique = 10\n",
    "\n",
    "src_dict = Dictionary(['<EOS>'])\n",
    "tgt_dict = Dictionary(['<BOS>', '<EOS>'])\n",
    "for n in range(n_unique):\n",
    "    src_dict.add_word(str(n))\n",
    "    tgt_dict.add_word(str(n))"
   ]
  },
  {
   "cell_type": "code",
   "execution_count": 3,
   "metadata": {
    "collapsed": true
   },
   "outputs": [],
   "source": [
    "from my_utils.toy_data import invert_seq\n",
    "train = invert_seq(5000, n_unique=n_unique)\n",
    "test = invert_seq(100, n_unique=n_unique)"
   ]
  },
  {
   "cell_type": "code",
   "execution_count": 4,
   "metadata": {},
   "outputs": [
    {
     "name": "stdout",
     "output_type": "stream",
     "text": [
      "DataLoader(\n",
      "\tdatasize: 5000\n",
      "\tbatchsize: 64\n",
      "\tn_batches: 79\n",
      "\ttrans_func: seq2seq\n",
      "\tdevice: cpu\n",
      ")\n"
     ]
    }
   ],
   "source": [
    "import torch\n",
    "from my_utils import DataLoader\n",
    "from torch_models.utils import seq2seq\n",
    "\n",
    "def numericalize(dataset, src_dict, tgt_dict):\n",
    "    numericalized = [([src_dict(s) for s in src], [tgt_dict(t) for t in tgt]) for src, tgt in dataset]\n",
    "    return numericalized\n",
    "\n",
    "# device = 'cuda:0'\n",
    "device = torch.device('cpu')\n",
    "trans_func = seq2seq(device)\n",
    "\n",
    "train_loader = DataLoader(numericalize(train, src_dict, tgt_dict), batch_size=64, trans_func=trans_func)\n",
    "test_loader = DataLoader(numericalize(test, src_dict, tgt_dict), batch_size=50, trans_func=trans_func)\n",
    "print(train_loader)"
   ]
  },
  {
   "cell_type": "code",
   "execution_count": 5,
   "metadata": {
    "scrolled": true
   },
   "outputs": [
    {
     "name": "stdout",
     "output_type": "stream",
     "text": [
      "Seq2Seq(\n",
      "  (encoder): RNNEncoder(\n",
      "    (embedding): Embedding(12, 64, padding_idx=11)\n",
      "    (rnn): LSTM(64, 64, dropout=0.3, bidirectional=True)\n",
      "  )\n",
      "  (decoder): RNNEncoder(\n",
      "    (embedding): Embedding(13, 64, padding_idx=12)\n",
      "    (rnn): LSTM(64, 64, dropout=0.3)\n",
      "  )\n",
      "  (generator): MLP(\n",
      "    (fc_out): Linear(in_features=64, out_features=12, bias=True)\n",
      "    (dropout): Dropout(p=0.3)\n",
      "    (criterion): CrossEntropyLoss()\n",
      "    (activation): Tanh()\n",
      "  )\n",
      ")\n"
     ]
    },
    {
     "name": "stderr",
     "output_type": "stream",
     "text": [
      "/Users/linghan/anaconda/lib/python3.5/site-packages/torch/nn/modules/rnn.py:38: UserWarning: dropout option adds dropout after all but last recurrent layer, so non-zero dropout expects num_layers greater than 1, but got dropout=0.3 and num_layers=1\n",
      "  \"num_layers={}\".format(dropout, num_layers))\n"
     ]
    }
   ],
   "source": [
    "from torch_models import AttnSeq2Seq, Seq2Seq\n",
    "\n",
    "embed_size=64\n",
    "dropout=0.3\n",
    "model = Seq2Seq(embed_size=embed_size, hidden_size=embed_size, src_vocab_size=len(src_dict), tgt_vocab_size=len(tgt_dict),\n",
    "                    src_EOS=src_dict('<EOS>'), tgt_BOS=tgt_dict('<BOS>'), tgt_EOS=tgt_dict('<EOS>'),\n",
    "                    num_layers=1, bidirectional=True, dropout=dropout, rnn='LSTM')\n",
    "print(model)"
   ]
  },
  {
   "cell_type": "code",
   "execution_count": 7,
   "metadata": {
    "scrolled": true
   },
   "outputs": [
    {
     "name": "stderr",
     "output_type": "stream",
     "text": [
      "[2018-10-25 17:07:04,887 INFO] steps [79/79]\tloss: 1.6562838418574273\t\n",
      "[2018-10-25 17:07:05,351 INFO] Evaluator accuracy: 0.3316831683168317\t\n",
      "[2018-10-25 17:07:07,565 INFO] steps [79/79]\tloss: 1.2721877445148517\t\n",
      "[2018-10-25 17:07:08,049 INFO] Evaluator accuracy: 0.3886138613861386\t\n",
      "[2018-10-25 17:07:10,196 INFO] steps [79/79]\tloss: 0.8586157409450675\t\n",
      "[2018-10-25 17:07:10,705 INFO] Evaluator accuracy: 0.655940594059406\t\n",
      "[2018-10-25 17:07:13,001 INFO] steps [79/79]\tloss: 0.51019352900831\t\n",
      "[2018-10-25 17:07:13,548 INFO] Evaluator accuracy: 0.7797029702970297\t\n",
      "[2018-10-25 17:07:16,030 INFO] steps [79/79]\tloss: 0.3078711759063262\t\n",
      "[2018-10-25 17:07:16,600 INFO] Evaluator accuracy: 0.844059405940594\t\n"
     ]
    },
    {
     "name": "stdout",
     "output_type": "stream",
     "text": [
      "CPU times: user 38.1 s, sys: 455 ms, total: 38.6 s\n",
      "Wall time: 14.3 s\n"
     ]
    }
   ],
   "source": [
    "%%time\n",
    "from my_utils import Trainer, EvaluatorSeq, EvaluatorLoss\n",
    "from my_utils.misc.logging import init_logger\n",
    "from torch.optim import Adam, SGD\n",
    "\n",
    "init_logger()\n",
    "\n",
    "optimizer = Adam(model.parameters(), lr=0.001)\n",
    "# optimizer = SGD(model.parameters(), lr=0.01)\n",
    "evaluator = EvaluatorSeq(model, test_loader, measure='accuracy')\n",
    "# evaluator = EvaluatorLoss(model, test_loader)\n",
    "\n",
    "trainer = Trainer(model, train_loader)\n",
    "trainer.train_epoch(optimizer, max_epoch=5,\n",
    "              evaluator=evaluator, score_monitor=None)"
   ]
  },
  {
   "cell_type": "code",
   "execution_count": 15,
   "metadata": {},
   "outputs": [
    {
     "name": "stdout",
     "output_type": "stream",
     "text": [
      "CPU times: user 134 ms, sys: 2.04 ms, total: 136 ms\n",
      "Wall time: 72.7 ms\n"
     ]
    },
    {
     "data": {
      "text/plain": [
       "[[4, 6, 7, 4],\n",
       " [5, 5, 5, 9],\n",
       " [11, 5, 11, 8, 3],\n",
       " [5, 7, 11],\n",
       " [8, 6, 3, 2, 11],\n",
       " [6, 7, 3],\n",
       " [3, 5, 8, 8],\n",
       " [11, 9, 9],\n",
       " [8, 10, 2, 6, 2],\n",
       " [11, 11, 4]]"
      ]
     },
     "execution_count": 15,
     "metadata": {},
     "output_type": "execute_result"
    }
   ],
   "source": [
    "%%time\n",
    "model.beam_search(inputs)"
   ]
  },
  {
   "cell_type": "code",
   "execution_count": 16,
   "metadata": {},
   "outputs": [
    {
     "name": "stdout",
     "output_type": "stream",
     "text": [
      "CPU times: user 24.5 ms, sys: 1.75 ms, total: 26.3 ms\n",
      "Wall time: 13.6 ms\n"
     ]
    },
    {
     "data": {
      "text/plain": [
       "[tensor([ 4,  6,  7,  4]),\n",
       " tensor([ 5,  5,  5,  9]),\n",
       " tensor([ 11,   5,  11,   8,   3]),\n",
       " tensor([  5,   7,  11]),\n",
       " tensor([  8,   6,   3,   2,  11]),\n",
       " tensor([ 6,  7,  3]),\n",
       " tensor([ 3,  5,  8,  8]),\n",
       " tensor([ 11,   9,   9]),\n",
       " tensor([  8,  10,   2,   6,   2]),\n",
       " tensor([ 11,  11,   4])]"
      ]
     },
     "execution_count": 16,
     "metadata": {},
     "output_type": "execute_result"
    }
   ],
   "source": [
    "%%time\n",
    "model.greedy_predict(inputs)"
   ]
  },
  {
   "cell_type": "code",
   "execution_count": 11,
   "metadata": {},
   "outputs": [
    {
     "name": "stdout",
     "output_type": "stream",
     "text": [
      "======= input ======\n",
      "['2', '5', '4', '2']\n",
      "['4', '7', '3', '3', '3']\n",
      "['1', '6', '9', '3', '9']\n",
      "['9', '5', '3']\n",
      "['9', '0', '1', '4', '6']\n",
      "['1', '5', '4']\n",
      "['3', '3', '6', '1']\n",
      "['7', '7', '9']\n",
      "['0', '4', '0', '8', '6']\n",
      "['2', '9', '9']\n",
      "======= output ======\n",
      "['2', '2', '4', '5']\n",
      "['3', '3', '3', '7']\n",
      "['9', '3', '9', '6', '1']\n",
      "['3', '5', '9']\n",
      "['6', '4', '1', '0', '9']\n",
      "['4', '5', '1']\n",
      "['1', '3', '6', '6']\n",
      "['9', '7', '7']\n",
      "['6', '8', '0', '4', '0']\n",
      "['9', '9', '2']\n"
     ]
    }
   ],
   "source": [
    "iter(train_loader)\n",
    "l = 10\n",
    "inputs, targets = next(train_loader)\n",
    "inputs = inputs[:l]\n",
    "targets = targets[:l]\n",
    "generated = model.predict(inputs)\n",
    "print('======= input ======')\n",
    "for seq in inputs:\n",
    "    print([src_dict[s.item()] for s in seq])\n",
    "print('======= output ======')\n",
    "for seq in generated[:l]:\n",
    "    print([tgt_dict[s] for s in seq])"
   ]
  },
  {
   "cell_type": "code",
   "execution_count": null,
   "metadata": {
    "collapsed": true
   },
   "outputs": [],
   "source": []
  }
 ],
 "metadata": {
  "kernelspec": {
   "display_name": "Python [conda env:anaconda]",
   "language": "python",
   "name": "conda-env-anaconda-py"
  },
  "language_info": {
   "codemirror_mode": {
    "name": "ipython",
    "version": 3
   },
   "file_extension": ".py",
   "mimetype": "text/x-python",
   "name": "python",
   "nbconvert_exporter": "python",
   "pygments_lexer": "ipython3",
   "version": "3.5.3"
  }
 },
 "nbformat": 4,
 "nbformat_minor": 2
}
