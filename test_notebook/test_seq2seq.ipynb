{
 "cells": [
  {
   "cell_type": "code",
   "execution_count": 1,
   "metadata": {
    "collapsed": true
   },
   "outputs": [],
   "source": [
    "%load_ext autoreload\n",
    "%autoreload 2\n",
    "%matplotlib notebook"
   ]
  },
  {
   "cell_type": "code",
   "execution_count": 2,
   "metadata": {
    "collapsed": true
   },
   "outputs": [],
   "source": [
    "from my_utils import Dictionary\n",
    "\n",
    "n_unique = 10\n",
    "\n",
    "src_dict = Dictionary(['<EOS>'])\n",
    "tgt_dict = Dictionary(['<BOS>', '<EOS>'])\n",
    "for n in range(n_unique):\n",
    "    src_dict.add_word(str(n))\n",
    "    tgt_dict.add_word(str(n))"
   ]
  },
  {
   "cell_type": "code",
   "execution_count": 3,
   "metadata": {
    "collapsed": true
   },
   "outputs": [],
   "source": [
    "from my_utils.toy_data import invert_seq\n",
    "train = invert_seq(5000, n_unique=n_unique)\n",
    "test = invert_seq(100, n_unique=n_unique)"
   ]
  },
  {
   "cell_type": "code",
   "execution_count": 4,
   "metadata": {
    "collapsed": true
   },
   "outputs": [],
   "source": [
    "import torch\n",
    "from my_utils import DataLoader\n",
    "from torch_models.utils import seq2seq\n",
    "\n",
    "def numericalize(dataset, src_dict, tgt_dict):\n",
    "    numericalized = [([src_dict(s) for s in src], [tgt_dict(t) for t in tgt]) for src, tgt in dataset]\n",
    "    return numericalized\n",
    "\n",
    "# device = 'cuda:0'\n",
    "device = torch.device('cpu')\n",
    "trans_func = seq2seq(device)\n",
    "\n",
    "train_loader = DataLoader(numericalize(train, src_dict, tgt_dict), batch_size=64, trans_func=trans_func)\n",
    "test_loader = DataLoader(numericalize(test, src_dict, tgt_dict), batch_size=50, trans_func=trans_func)"
   ]
  },
  {
   "cell_type": "code",
   "execution_count": 17,
   "metadata": {
    "scrolled": true
   },
   "outputs": [
    {
     "name": "stdout",
     "output_type": "stream",
     "text": [
      "AttnSeq2Seq(\n",
      "  (encoder): RNNEncoder(\n",
      "    (embedding): Embedding(12, 64, padding_idx=11)\n",
      "    (rnn): LSTM(64, 64, num_layers=2)\n",
      "  )\n",
      "  (decoder): RNNEncoder(\n",
      "    (embedding): Embedding(13, 64, padding_idx=12)\n",
      "    (rnn): LSTM(64, 64, num_layers=2)\n",
      "  )\n",
      "  (generator): MLP(\n",
      "    (fc_out): Linear(in_features=64, out_features=12, bias=True)\n",
      "    (dropout): Dropout(p=0)\n",
      "    (criterion): CrossEntropyLoss()\n",
      "    (activation): Tanh()\n",
      "  )\n",
      "  (attn_hidden): Linear(in_features=128, out_features=64, bias=True)\n",
      "  (attention): DotAttn()\n",
      ")\n"
     ]
    }
   ],
   "source": [
    "from torch_models import AttnSeq2Seq\n",
    "\n",
    "embed_size=64\n",
    "dropout = 0\n",
    "model = AttnSeq2Seq(embed_size=embed_size, hidden_size=embed_size, src_vocab_size=len(src_dict), tgt_vocab_size=len(tgt_dict),\n",
    "                    src_EOS=src_dict('<EOS>'), tgt_BOS=tgt_dict('<BOS>'), tgt_EOS=tgt_dict('<EOS>'),\n",
    "                    num_layers=2, bidirectional=False, dropout=dropout, rnn='lstm')\n",
    "print(model)"
   ]
  },
  {
   "cell_type": "code",
   "execution_count": 18,
   "metadata": {
    "scrolled": true
   },
   "outputs": [
    {
     "name": "stderr",
     "output_type": "stream",
     "text": [
      "/Users/linghan/anaconda/lib/python3.5/site-packages/nltk/translate/bleu_score.py:490: UserWarning: \n",
      "Corpus/Sentence contains 0 counts of 4-gram overlaps.\n",
      "BLEU scores might be undesirable; use SmoothingFunction().\n",
      "  warnings.warn(_msg)\n"
     ]
    },
    {
     "name": "stdout",
     "output_type": "stream",
     "text": [
      "epoch 0  \tloss: 2.0030362696587285\tBLEU: 0.16817838069643742\t\n",
      "epoch 1  \tloss: 1.2276613078539884\tBLEU: 0.39275780857520876\t\n",
      "epoch 2  \tloss: 0.5726368857335441\tBLEU: 0.7509030034714899\t\n",
      "epoch 3  \tloss: 0.23478301680540736\tBLEU: 0.8509085733994385\t\n",
      "epoch 4  \tloss: 0.11651142912952206\tBLEU: 0.9155565401072485\t\n",
      "CPU times: user 49.5 s, sys: 766 ms, total: 50.2 s\n",
      "Wall time: 18.7 s\n"
     ]
    }
   ],
   "source": [
    "%%time\n",
    "from my_utils import Trainer, EvaluatorSeq\n",
    "from torch.optim import Adam, SGD\n",
    "\n",
    "optimizer = Adam(model.parameters())\n",
    "evaluator = EvaluatorSeq(model, test_loader, measure='BLEU')\n",
    "\n",
    "trainer = Trainer(model, train_loader)\n",
    "trainer.train(optimizer, max_epoch=5,\n",
    "              evaluator=evaluator, score_monitor=None, show_log=True)"
   ]
  },
  {
   "cell_type": "code",
   "execution_count": 19,
   "metadata": {
    "collapsed": true
   },
   "outputs": [],
   "source": [
    "assert 0.9 < evaluator.evaluate()"
   ]
  },
  {
   "cell_type": "code",
   "execution_count": 20,
   "metadata": {},
   "outputs": [
    {
     "name": "stdout",
     "output_type": "stream",
     "text": [
      "======= input ======\n",
      "['4', '2', '3']\n",
      "['4', '2', '5', '9']\n",
      "['0', '2', '7', '1']\n",
      "['5', '5', '9', '1', '6']\n",
      "['5', '1', '3', '8', '0']\n",
      "['0', '9', '4', '2']\n",
      "['8', '8', '5', '7', '9']\n",
      "['0', '5', '0', '0']\n",
      "['7', '3', '8', '9']\n",
      "['8', '4', '4', '6']\n",
      "======= output ======\n",
      "['3', '2', '4']\n",
      "['9', '5', '2', '4']\n",
      "['1', '7', '2', '0']\n",
      "['6', '1', '9', '5', '5']\n",
      "['0', '8', '3', '1', '5']\n",
      "['2', '4', '9', '0']\n",
      "['9', '7', '5', '8', '8']\n",
      "['0', '0', '5', '0']\n",
      "['9', '8', '3', '7']\n",
      "['6', '4', '4', '8']\n"
     ]
    }
   ],
   "source": [
    "iter(train_loader)\n",
    "l = 10\n",
    "inputs, targets = next(train_loader)\n",
    "inputs = inputs[:l]\n",
    "targets = targets[:l]\n",
    "generated = model.predict(inputs)\n",
    "print('======= input ======')\n",
    "for seq in inputs:\n",
    "    print([src_dict[s.item()] for s in seq])\n",
    "print('======= output ======')\n",
    "for seq in generated[:l]:\n",
    "    print([tgt_dict[s] for s in seq])"
   ]
  },
  {
   "cell_type": "code",
   "execution_count": null,
   "metadata": {
    "collapsed": true
   },
   "outputs": [],
   "source": []
  }
 ],
 "metadata": {
  "kernelspec": {
   "display_name": "Python [conda env:anaconda]",
   "language": "python",
   "name": "conda-env-anaconda-py"
  },
  "language_info": {
   "codemirror_mode": {
    "name": "ipython",
    "version": 3
   },
   "file_extension": ".py",
   "mimetype": "text/x-python",
   "name": "python",
   "nbconvert_exporter": "python",
   "pygments_lexer": "ipython3",
   "version": "3.5.3"
  }
 },
 "nbformat": 4,
 "nbformat_minor": 2
}
